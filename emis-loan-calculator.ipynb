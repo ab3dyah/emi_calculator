{
 "cells": [
  {
   "cell_type": "markdown",
   "id": "cf28b94c",
   "metadata": {
    "papermill": {
     "duration": 0.004797,
     "end_time": "2023-06-01T19:07:40.473816",
     "exception": false,
     "start_time": "2023-06-01T19:07:40.469019",
     "status": "completed"
    },
    "tags": []
   },
   "source": [
    "## A simple EMI loan payment calculator\n",
    "This is a simple python work that helps to calculate the equal monthly installment payment for loan collected ( either from a bank, friends or family)\n",
    "\n",
    "A simple but really powerful python function can be used to help in the calculation of EMI.\n",
    "\n",
    "The function created can be reused for other calculations for EMI payments without the need to go through the hassle of writing the entire code for EMI payment all over again. That's the cool thing about using python functions."
   ]
  },
  {
   "cell_type": "markdown",
   "id": "cbce0a0b",
   "metadata": {
    "papermill": {
     "duration": 0.003761,
     "end_time": "2023-06-01T19:07:40.481578",
     "exception": false,
     "start_time": "2023-06-01T19:07:40.477817",
     "status": "completed"
    },
    "tags": []
   },
   "source": [
    "### What problem are we solving then?\n",
    "We can start by asking simple question(s) that will serve as the basis for our work.\n",
    "\n",
    "**Question:**\n",
    "\n",
    "Mr. Andrew had planned on purchasing a medium sized tractor to increase his farming capacity. The tractor will cost him a total of £43,250. Andrew is now considering two options to finance this purchase:\n",
    "1. He could choose to make an initial down-payment of £23,500 and take an 5-years loan with an interest of 7.6% per annum (compounded momthly) for the remaining amount, or\n",
    "2. Take an 8-years loan with an interest of 4.27% per annum (compunded monthly) for the entire amount.\n",
    "Both these loans ( whichever he chose to use) have to be paid back in equal monthly installments(EMIs).\n",
    "Which loan has a lower EMI among the two options?\n",
    "As Mr. Andrew's personal account manager, which of the loans will you advice him to go for?"
   ]
  },
  {
   "cell_type": "markdown",
   "id": "05101fc8",
   "metadata": {
    "papermill": {
     "duration": 0.003774,
     "end_time": "2023-06-01T19:07:40.489366",
     "exception": false,
     "start_time": "2023-06-01T19:07:40.485592",
     "status": "completed"
    },
    "tags": []
   },
   "source": [
    "### Let's dive into solving the problems shall we?\n",
    "\n",
    "- We are looking to calculate and compare EMIs for for two loan options.\n",
    "- We will define a function to calculate the EMI for a loan by gving inputs like cost of tractor, down payment, duration of loan, interest rate and any other necessary input.\n",
    "\n",
    "It's paramount that we build this function in steps.\n"
   ]
  },
  {
   "cell_type": "markdown",
   "id": "047735a5",
   "metadata": {
    "papermill": {
     "duration": 0.003649,
     "end_time": "2023-06-01T19:07:40.496788",
     "exception": false,
     "start_time": "2023-06-01T19:07:40.493139",
     "status": "completed"
    },
    "tags": []
   },
   "source": [
    "To begin, lets write a simple function that calculates the EMI on the entire cost of the house, assuming that the loans has to be paid back in one year and there is no interest or down payment "
   ]
  },
  {
   "cell_type": "code",
   "execution_count": 1,
   "id": "8481443e",
   "metadata": {
    "execution": {
     "iopub.execute_input": "2023-06-01T19:07:40.506819Z",
     "iopub.status.busy": "2023-06-01T19:07:40.506243Z",
     "iopub.status.idle": "2023-06-01T19:07:40.515329Z",
     "shell.execute_reply": "2023-06-01T19:07:40.514168Z"
    },
    "papermill": {
     "duration": 0.016964,
     "end_time": "2023-06-01T19:07:40.517733",
     "exception": false,
     "start_time": "2023-06-01T19:07:40.500769",
     "status": "completed"
    },
    "scrolled": true,
    "tags": []
   },
   "outputs": [],
   "source": [
    "def loan_emi(amount):\n",
    "    emi = amount / 12        #assuming payment duration is 1year\n",
    "    return emi"
   ]
  },
  {
   "cell_type": "code",
   "execution_count": 2,
   "id": "056d264a",
   "metadata": {
    "execution": {
     "iopub.execute_input": "2023-06-01T19:07:40.527362Z",
     "iopub.status.busy": "2023-06-01T19:07:40.527001Z",
     "iopub.status.idle": "2023-06-01T19:07:40.534504Z",
     "shell.execute_reply": "2023-06-01T19:07:40.533635Z"
    },
    "papermill": {
     "duration": 0.014446,
     "end_time": "2023-06-01T19:07:40.536259",
     "exception": false,
     "start_time": "2023-06-01T19:07:40.521813",
     "status": "completed"
    },
    "tags": []
   },
   "outputs": [
    {
     "data": {
      "text/plain": [
       "3604.1666666666665"
      ]
     },
     "execution_count": 2,
     "metadata": {},
     "output_type": "execute_result"
    }
   ],
   "source": [
    "# you can use the above function to get emi of any amount payable in one year\n",
    "loan_emi(43250)"
   ]
  },
  {
   "cell_type": "markdown",
   "id": "92941c41",
   "metadata": {
    "papermill": {
     "duration": 0.003729,
     "end_time": "2023-06-01T19:07:40.546110",
     "exception": false,
     "start_time": "2023-06-01T19:07:40.542381",
     "status": "completed"
    },
    "tags": []
   },
   "source": [
    "We can modify the loan_emi functn by adding another argument to account for the duration of the loan in months. This is to extend the first function a bit but it does a similar thing ( local variable and scope comes into play here)"
   ]
  },
  {
   "cell_type": "code",
   "execution_count": 3,
   "id": "0b8539ad",
   "metadata": {
    "execution": {
     "iopub.execute_input": "2023-06-01T19:07:40.556294Z",
     "iopub.status.busy": "2023-06-01T19:07:40.554951Z",
     "iopub.status.idle": "2023-06-01T19:07:40.560976Z",
     "shell.execute_reply": "2023-06-01T19:07:40.559341Z"
    },
    "papermill": {
     "duration": 0.013143,
     "end_time": "2023-06-01T19:07:40.563089",
     "exception": false,
     "start_time": "2023-06-01T19:07:40.549946",
     "status": "completed"
    },
    "tags": []
   },
   "outputs": [],
   "source": [
    "def loan_emi(amount, duration): # duration specifies the time to complete loan payments \n",
    "    emi = amount/duration      #this is a local variable and it will run only within the loan_emi function \n",
    "    return emi "
   ]
  },
  {
   "cell_type": "code",
   "execution_count": 4,
   "id": "61e147c3",
   "metadata": {
    "execution": {
     "iopub.execute_input": "2023-06-01T19:07:40.572783Z",
     "iopub.status.busy": "2023-06-01T19:07:40.572383Z",
     "iopub.status.idle": "2023-06-01T19:07:40.578124Z",
     "shell.execute_reply": "2023-06-01T19:07:40.577074Z"
    },
    "papermill": {
     "duration": 0.013704,
     "end_time": "2023-06-01T19:07:40.580950",
     "exception": false,
     "start_time": "2023-06-01T19:07:40.567246",
     "status": "completed"
    },
    "tags": []
   },
   "outputs": [],
   "source": [
    "emi1 = loan_emi(43250,12)    #loan emi for 1 year\n",
    "emi2 = loan_emi(43250, 2*12)    #loan emi for 2 years\n",
    "emi3 = loan_emi(43250, 13*12)    #loan emi for 13 years\n"
   ]
  },
  {
   "cell_type": "markdown",
   "id": "b9b749e6",
   "metadata": {
    "papermill": {
     "duration": 0.00434,
     "end_time": "2023-06-01T19:07:40.589780",
     "exception": false,
     "start_time": "2023-06-01T19:07:40.585440",
     "status": "completed"
    },
    "tags": []
   },
   "source": [
    "Our function is building up really well. :)\n",
    "\n",
    "Let's modify the loan_emi function again, this time by adding another argument to account for the immediate down payment. This is going to be a sort of an *optional argument* ( since it's not all the loan options has a down payment option). The default value of this argument will be zero(0)"
   ]
  },
  {
   "cell_type": "code",
   "execution_count": 5,
   "id": "925f8504",
   "metadata": {
    "execution": {
     "iopub.execute_input": "2023-06-01T19:07:40.599200Z",
     "iopub.status.busy": "2023-06-01T19:07:40.598865Z",
     "iopub.status.idle": "2023-06-01T19:07:40.604507Z",
     "shell.execute_reply": "2023-06-01T19:07:40.603086Z"
    },
    "papermill": {
     "duration": 0.012594,
     "end_time": "2023-06-01T19:07:40.606369",
     "exception": false,
     "start_time": "2023-06-01T19:07:40.593775",
     "status": "completed"
    },
    "tags": []
   },
   "outputs": [],
   "source": [
    "def loan_emi(amount, duration, down_payment=0): #its good practice to always include optional arguments at the end of a function definition.\n",
    "    loan_amount = amount - down_payment\n",
    "    emi = loan_amount / duration\n",
    "    return emi\n",
    "    "
   ]
  },
  {
   "cell_type": "code",
   "execution_count": 6,
   "id": "1e897ab0",
   "metadata": {
    "execution": {
     "iopub.execute_input": "2023-06-01T19:07:40.616558Z",
     "iopub.status.busy": "2023-06-01T19:07:40.615969Z",
     "iopub.status.idle": "2023-06-01T19:07:40.620243Z",
     "shell.execute_reply": "2023-06-01T19:07:40.619217Z"
    },
    "papermill": {
     "duration": 0.012108,
     "end_time": "2023-06-01T19:07:40.622647",
     "exception": false,
     "start_time": "2023-06-01T19:07:40.610539",
     "status": "completed"
    },
    "tags": []
   },
   "outputs": [],
   "source": [
    "emi1 = loan_emi(43250, 12, 23500) #emi for 1 year with down payment \n",
    "emi2 = loan_emi(43250, 6*12, 23500) #emi for 6 years with down payment "
   ]
  },
  {
   "cell_type": "markdown",
   "id": "3606a24e",
   "metadata": {
    "papermill": {
     "duration": 0.003753,
     "end_time": "2023-06-01T19:07:40.631051",
     "exception": false,
     "start_time": "2023-06-01T19:07:40.627298",
     "status": "completed"
    },
    "tags": []
   },
   "source": [
    "Now for the final piece of the puzzle, let's add the interest calculation into the loan_emi function.\n",
    "\n",
    "The formula for calculating EMI for a loan is:\n",
    "\n",
    "`EMI = P*r*(1+r)**n / (1+r)**n-1`\n",
    "\n",
    "Where:\n",
    "- P = loan amount (principle)\n",
    "- n = number of months (duration)\n",
    "- r = interest rate per month\n",
    "\n",
    "Now let's put it all in the loan_emi function."
   ]
  },
  {
   "cell_type": "code",
   "execution_count": 7,
   "id": "31b89652",
   "metadata": {
    "execution": {
     "iopub.execute_input": "2023-06-01T19:07:40.642833Z",
     "iopub.status.busy": "2023-06-01T19:07:40.642155Z",
     "iopub.status.idle": "2023-06-01T19:07:40.646591Z",
     "shell.execute_reply": "2023-06-01T19:07:40.645927Z"
    },
    "papermill": {
     "duration": 0.012998,
     "end_time": "2023-06-01T19:07:40.649002",
     "exception": false,
     "start_time": "2023-06-01T19:07:40.636004",
     "status": "completed"
    },
    "tags": []
   },
   "outputs": [],
   "source": [
    "def loan_emi(amount, duration, rate, down_payment=0):\n",
    "    loan_amount = amount - down_payment\n",
    "    emi = loan_amount*rate*((1+rate)**duration)/((1+rate)**duration-1)\n",
    "    return emi"
   ]
  },
  {
   "cell_type": "code",
   "execution_count": 8,
   "id": "0f70277e",
   "metadata": {
    "execution": {
     "iopub.execute_input": "2023-06-01T19:07:40.659841Z",
     "iopub.status.busy": "2023-06-01T19:07:40.659224Z",
     "iopub.status.idle": "2023-06-01T19:07:40.663942Z",
     "shell.execute_reply": "2023-06-01T19:07:40.662960Z"
    },
    "papermill": {
     "duration": 0.013024,
     "end_time": "2023-06-01T19:07:40.666438",
     "exception": false,
     "start_time": "2023-06-01T19:07:40.653414",
     "status": "completed"
    },
    "tags": []
   },
   "outputs": [],
   "source": [
    "emi1 = loan_emi(43250,5*12,0.076/12, 23500) #loan emi for 5 years at an interest rate off 7.6% with a down payment of £23,500\n",
    "emi2 = loan_emi(43250, 8*12, 0.0427/12) # loan emi for 8 years at interest rate of 4.27% with no down payment "
   ]
  },
  {
   "cell_type": "markdown",
   "id": "a4278dc0",
   "metadata": {
    "papermill": {
     "duration": 0.003902,
     "end_time": "2023-06-01T19:07:40.674834",
     "exception": false,
     "start_time": "2023-06-01T19:07:40.670932",
     "status": "completed"
    },
    "tags": []
   },
   "source": [
    "With that, we can compare the two loan options."
   ]
  },
  {
   "cell_type": "code",
   "execution_count": 9,
   "id": "cc3fec94",
   "metadata": {
    "execution": {
     "iopub.execute_input": "2023-06-01T19:07:40.684803Z",
     "iopub.status.busy": "2023-06-01T19:07:40.684378Z",
     "iopub.status.idle": "2023-06-01T19:07:40.688360Z",
     "shell.execute_reply": "2023-06-01T19:07:40.687746Z"
    },
    "papermill": {
     "duration": 0.01116,
     "end_time": "2023-06-01T19:07:40.690071",
     "exception": false,
     "start_time": "2023-06-01T19:07:40.678911",
     "status": "completed"
    },
    "tags": []
   },
   "outputs": [],
   "source": [
    "import math"
   ]
  },
  {
   "cell_type": "code",
   "execution_count": 10,
   "id": "26027729",
   "metadata": {
    "execution": {
     "iopub.execute_input": "2023-06-01T19:07:40.702169Z",
     "iopub.status.busy": "2023-06-01T19:07:40.701064Z",
     "iopub.status.idle": "2023-06-01T19:07:40.707203Z",
     "shell.execute_reply": "2023-06-01T19:07:40.706061Z"
    },
    "papermill": {
     "duration": 0.015237,
     "end_time": "2023-06-01T19:07:40.709794",
     "exception": false,
     "start_time": "2023-06-01T19:07:40.694557",
     "status": "completed"
    },
    "tags": []
   },
   "outputs": [
    {
     "name": "stdout",
     "output_type": "stream",
     "text": [
      "If Mr Andrew chose to go with loan option 1, he'll pay a monthly EMI of £397 for 5 years.\n",
      "If Mr Andrew choses to opt instead for loan option 2, he'll pay a monthly EMI of £533 for 8 years\n"
     ]
    }
   ],
   "source": [
    "print('If Mr Andrew chose to go with loan option 1, he\\'ll pay a monthly EMI of £{} for 5 years.'.format(math.ceil(emi1)))\n",
    "print('If Mr Andrew choses to opt instead for loan option 2, he\\'ll pay a monthly EMI of £{} for 8 years'.format(math.ceil(emi2)))"
   ]
  },
  {
   "cell_type": "markdown",
   "id": "7e4a1f56",
   "metadata": {
    "papermill": {
     "duration": 0.00394,
     "end_time": "2023-06-01T19:07:40.718344",
     "exception": false,
     "start_time": "2023-06-01T19:07:40.714404",
     "status": "completed"
    },
    "tags": []
   },
   "source": [
    "With that I'll believe the first part of our question has been answered.\n",
    "\n",
    "For the second part, what will be your advice to Mr. Andrew as his account manager on which loan option to go for.\n",
    "\n",
    "I'll leave this part to comtributors to help me out."
   ]
  }
 ],
 "metadata": {
  "kernelspec": {
   "display_name": "Python 3",
   "language": "python",
   "name": "python3"
  },
  "language_info": {
   "codemirror_mode": {
    "name": "ipython",
    "version": 3
   },
   "file_extension": ".py",
   "mimetype": "text/x-python",
   "name": "python",
   "nbconvert_exporter": "python",
   "pygments_lexer": "ipython3",
   "version": "3.10.10"
  },
  "papermill": {
   "default_parameters": {},
   "duration": 11.246839,
   "end_time": "2023-06-01T19:07:41.753081",
   "environment_variables": {},
   "exception": null,
   "input_path": "__notebook__.ipynb",
   "output_path": "__notebook__.ipynb",
   "parameters": {},
   "start_time": "2023-06-01T19:07:30.506242",
   "version": "2.4.0"
  }
 },
 "nbformat": 4,
 "nbformat_minor": 5
}
